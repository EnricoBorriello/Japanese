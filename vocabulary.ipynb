{
 "cells": [
  {
   "cell_type": "code",
   "execution_count": 155,
   "id": "a519fe11",
   "metadata": {},
   "outputs": [],
   "source": [
    "import random"
   ]
  },
  {
   "cell_type": "code",
   "execution_count": 156,
   "id": "1739f1c1",
   "metadata": {},
   "outputs": [],
   "source": [
    "vocabulary0a = ['いち', 'に', 'さん', 'し', 'ご', 'ろく', 'しち', 'はち', 'きゅう']\n",
    "vocabulary0b = ['よん','なな','く']\n",
    "vocabulary1 = ['わたし','ちち','ひと','くち','はは','とも','こ','ちから','て','おとこ','おんな']\n",
    "vocabulary2 = ['あか','いけ']"
   ]
  },
  {
   "cell_type": "code",
   "execution_count": 157,
   "id": "3822e6a0",
   "metadata": {},
   "outputs": [],
   "source": [
    "kanji0 = ['一', '二', '三', '四', '五', '六', '七', '八', '九']\n",
    "kanji1 = ['私','父','人','口','母','友','子','力','手','男','女']\n",
    "kanji2 = ['赤','池']"
   ]
  },
  {
   "cell_type": "code",
   "execution_count": 158,
   "id": "a596f860",
   "metadata": {},
   "outputs": [],
   "source": [
    "vocabulary = vocabulary0a + vocabulary0b + vocabulary1 + vocabulary2\n",
    "kanji = kanji0 + kanji1 + kanji2"
   ]
  },
  {
   "cell_type": "code",
   "execution_count": 159,
   "id": "060c0849",
   "metadata": {},
   "outputs": [
    {
     "name": "stdout",
     "output_type": "stream",
     "text": [
      "に\n",
      "いち\n",
      "しち\n",
      "し\n",
      "ちち\n",
      "きゅう\n",
      "おとこ\n",
      "さん\n",
      "あか\n",
      "ご\n"
     ]
    }
   ],
   "source": [
    "random.shuffle(vocabulary)\n",
    "for word in vocabulary[:10]:\n",
    "    print(word)"
   ]
  },
  {
   "cell_type": "code",
   "execution_count": 160,
   "id": "c57c6a3b",
   "metadata": {},
   "outputs": [
    {
     "name": "stdout",
     "output_type": "stream",
     "text": [
      "母\n",
      "八\n",
      "三\n",
      "七\n",
      "私\n",
      "人\n",
      "友\n",
      "口\n",
      "男\n",
      "女\n"
     ]
    }
   ],
   "source": [
    "random.shuffle(kanji)\n",
    "for k in kanji[:10]:\n",
    "    print(k)"
   ]
  },
  {
   "cell_type": "code",
   "execution_count": 161,
   "id": "cb77bac2",
   "metadata": {},
   "outputs": [
    {
     "data": {
      "text/plain": [
       "'なな'"
      ]
     },
     "execution_count": 161,
     "metadata": {},
     "output_type": "execute_result"
    }
   ],
   "source": [
    "a = list('しち/なな'.split('/'))\n",
    "random.shuffle(a)\n",
    "a[0]"
   ]
  },
  {
   "cell_type": "code",
   "execution_count": null,
   "id": "4e397af3",
   "metadata": {},
   "outputs": [],
   "source": []
  },
  {
   "cell_type": "code",
   "execution_count": null,
   "id": "32e27186",
   "metadata": {},
   "outputs": [],
   "source": []
  }
 ],
 "metadata": {
  "kernelspec": {
   "display_name": "Python 3",
   "language": "python",
   "name": "python3"
  },
  "language_info": {
   "codemirror_mode": {
    "name": "ipython",
    "version": 3
   },
   "file_extension": ".py",
   "mimetype": "text/x-python",
   "name": "python",
   "nbconvert_exporter": "python",
   "pygments_lexer": "ipython3",
   "version": "3.9.0"
  }
 },
 "nbformat": 4,
 "nbformat_minor": 5
}
